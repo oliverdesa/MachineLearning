{
  "nbformat": 4,
  "nbformat_minor": 0,
  "metadata": {
    "colab": {
      "provenance": []
    },
    "kernelspec": {
      "name": "python3",
      "display_name": "Python 3"
    },
    "language_info": {
      "name": "python"
    }
  },
  "cells": [
    {
      "cell_type": "code",
      "execution_count": 2,
      "metadata": {
        "id": "uxZyex73RIvs"
      },
      "outputs": [],
      "source": [
        "# numpy import statement\n",
        "import numpy as np\n",
        "np.random.seed(1210)"
      ]
    },
    {
      "cell_type": "markdown",
      "source": [
        "**Note**: Each question has some test cases, to help you figure out if your implementation is correct\n"
      ],
      "metadata": {
        "id": "my_ueSW4FW3h"
      }
    },
    {
      "cell_type": "markdown",
      "source": [
        "## Algorithm questions"
      ],
      "metadata": {
        "id": "0PncKuEh0qBz"
      }
    },
    {
      "cell_type": "markdown",
      "source": [
        "Implement the following algorithms according to their docstring.\n",
        "\n",
        "Please, only use on basic list/dictionary operations, do not use any fancy libraries that solve this problem for you!"
      ],
      "metadata": {
        "id": "d2X_1CZDfpKY"
      }
    },
    {
      "cell_type": "code",
      "source": [
        "def extract_odd_values(input_list):\n",
        "  \"\"\"\n",
        "  Return a new list which includes odd elements from input_list.\n",
        "  Arguments:\n",
        "    input_list: list, a list of elements\n",
        "  Returns:\n",
        "    new_list: list, only including odd values of the input_list\n",
        "  \"\"\"\n",
        "  odd_list = []\n",
        "  for index, val in enumerate(input_list):\n",
        "    if val % 2 != 0:\n",
        "      odd_list.append(val)\n",
        "  \n",
        "  return(odd_list)\n",
        "    \n",
        "\n"
      ],
      "metadata": {
        "id": "imvKFUYALFdW"
      },
      "execution_count": 3,
      "outputs": []
    },
    {
      "cell_type": "code",
      "source": [
        "# test cases: extract_odd_values\n",
        "l1 = [1,3,2,4,5,6]\n",
        "l1_invert = extract_odd_values(l1)\n",
        "print(l1) # should be [1,3,2,4,5,6]\n",
        "print(l1_invert) # should be [1,3,5]\n",
        "l2 = []\n",
        "l2_invert = []\n",
        "print(l2) # should be []\n",
        "print(l2_invert) # should be []"
      ],
      "metadata": {
        "id": "sI3dlqFwLGmd"
      },
      "execution_count": null,
      "outputs": []
    },
    {
      "cell_type": "code",
      "source": [
        "def has_duplicate(input_list):\n",
        "  \"\"\"\n",
        "  Return True if input_list has any duplicates, otherwise return False.\n",
        "  Arguments:\n",
        "    input_list: list, a list of elements\n",
        "  Returns:\n",
        "    duplicate: boolean, whether or not input_list has duplicates\n",
        "  \"\"\"\n",
        "\n",
        "  no_dupes = set(input_list)\n",
        "  if len(no_dupes) < len(input_list):\n",
        "    return(True)\n",
        "  else:\n",
        "    return(False)"
      ],
      "metadata": {
        "id": "PFYLzR9tRK3L"
      },
      "execution_count": 5,
      "outputs": []
    },
    {
      "cell_type": "code",
      "source": [
        "# test cases for has_duplicate\n",
        "l1 = ['A','T','C','G']\n",
        "print(has_duplicate(l1)) # should be False\n",
        "l2 = ['T','T','C','A']\n",
        "print(has_duplicate(l2)) # should be True"
      ],
      "metadata": {
        "id": "DQBY0NZxME8R"
      },
      "execution_count": null,
      "outputs": []
    },
    {
      "cell_type": "code",
      "source": [
        "def invert_dict(input_dict):\n",
        "  \"\"\"\n",
        "  Return a new dictionary whose key, value pairs are equal to the \n",
        "  value, key pairs of input_dict.\n",
        "  This only works if input_dict has no duplicates in its values.\n",
        "  if input_dict has any duplicate values, raise a ValueError.\n",
        "  Arguments:\n",
        "    input_dict: dict, a dictionary\n",
        "  Returns:\n",
        "    new_dict: dict, a dictionary that is the inverse of input_dict\n",
        "  \"\"\"\n",
        "  if len(set(input_dict.values())) != len(input_dict.values()):\n",
        "    raise ValueError ('Input dictionary has duplicate values')\n",
        "  else:\n",
        "    input_dict = {input_dict[i]:i for i in input_dict}\n",
        "\n",
        "  return(input_dict)"
      ],
      "metadata": {
        "id": "uwx0F9jjAvsB"
      },
      "execution_count": 7,
      "outputs": []
    },
    {
      "cell_type": "code",
      "source": [
        "# test cases for invert_dict\n",
        "d1 = {\"A\":0,\"C\":1,\"T\":2,\"G\":3}\n",
        "d1_invert = invert_dict(d1)\n",
        "print(d1) # should be {\"A\":0,\"C\":1,\"T\":2,\"G\":3}\n",
        "print(d1_invert) # should be {0:\"A\", 1:\"C\", 2:\"T\", 3:\"G\"}\n",
        "d2 = {\"A\":0,\"C\":0,\"T\":2,\"G\":3}\n",
        "d2_invert = invert_dict(d2) # should raise ValueError#\n",
        "print(d2_invert)\n",
        "print(d2) # should not be executed\n",
        "print(d2_invert) # should not be executed"
      ],
      "metadata": {
        "id": "OjMtghT-MZyT"
      },
      "execution_count": null,
      "outputs": []
    },
    {
      "cell_type": "code",
      "source": [
        "def mutagenesis(seq,mut_dict):\n",
        "  \"\"\"\n",
        "  Return a new sequence that is identical to seq (a DNA sequence) but is \n",
        "  mutated according to mut_dict, a dictionary that maps nucleotide bases \n",
        "  ('A','C','T','G') to other (mutated) bases.\n",
        "  Raise a ValueError if input_string is not a valid DNA sequence (contains\n",
        "  a character other than ACTG).\n",
        "  If a base is absent from mut_dict, do NOT mutate it.\n",
        "  Note: this is mutation in the biological sense, not referring to python\n",
        "  mutability.\n",
        "  Arguments:\n",
        "    seq: str, input sequence of bases\n",
        "    mut_dict: dict, maps original bases to new bases\n",
        "  Returns:\n",
        "    new_seq: str, sequence where the bases have been mutated\n",
        "  \"\"\"\n",
        "  seq = list(seq)\n",
        "\n",
        "  for index, base in enumerate(seq):\n",
        "    if base not in ['A','C', 'T', 'G']:\n",
        "      raise ValueError ('Inputted sequence is not a valid DNA sequence')\n",
        "    elif base in ['A', 'T']:\n",
        "      seq[index] = mut_dict[base]\n",
        "  \n",
        "  new_seq = ''\n",
        "  new_seq = new_seq.join(seq)\n",
        "  \n",
        "  return(new_seq)     \n",
        "\n"
      ],
      "metadata": {
        "id": "GJLZ8ITvMASt"
      },
      "execution_count": 9,
      "outputs": []
    },
    {
      "cell_type": "code",
      "source": [
        "# test cases for mutatagenesis\n",
        "# A becomes T, T becomes A, other bases are unchanged\n",
        "mut_dict = {\n",
        "    \"A\": \"T\",\n",
        "    \"T\": \"A\",\n",
        "}\n",
        "seq1 = \"AACTGACTTAGCA\"\n",
        "mut_seq1 = mutagenesis(seq1,mut_dict)\n",
        "print(seq1) # should be \"AACTGACTTAGCA\"\n",
        "print(mut_seq1) # should be \"TTCAGTCAATGCT\"\n",
        "seq2 = \"ACTGM5\"\n",
        "mut_seq2 = mutagenesis(seq2,mut_dict) # should raise ValueError\n",
        "print(seq2) # should not be executed\n",
        "print(mut_seq2) # should not be executed"
      ],
      "metadata": {
        "id": "AcblXX73Edh3"
      },
      "execution_count": null,
      "outputs": []
    },
    {
      "cell_type": "markdown",
      "source": [
        "## Numpy Programming Question"
      ],
      "metadata": {
        "id": "nRzEqu1ofkpd"
      }
    },
    {
      "cell_type": "markdown",
      "source": [
        "### Maxes and Sums\n",
        "\n",
        "In this question, you must implement two related functions. The first function, `max_then_sum`, computes the max over user-specified axes `max_axes` for two different arrays, then it adds the resulting arrays together (elementwise). The second function, `sum_then_max`, does the same thing but in opposite order: first it computes the sum over user-specified axes `sum_axes`, then it takes the elementwise max of the resulting arrays."
      ],
      "metadata": {
        "id": "YuJf9vkVflHv"
      }
    },
    {
      "cell_type": "code",
      "source": [
        "def min_then_sum(array_1,array_2,axes):\n",
        "  \"\"\"\n",
        "  Take min of array_1 and array_2 over axes, then return the elementwise \n",
        "  sum of the resulting arrays.\n",
        "  Hint: if a, b are arrays with same shape, a+b is elementwise sum of a and b.\n",
        "  \"\"\" \n",
        "  assert array_1.shape == array_2.shape\n",
        "\n",
        "  array_1 = array_1.min(axes)\n",
        "  array_2 = array_2.min(axes)\n",
        "\n",
        "  return(np.add(array_1, array_2))"
      ],
      "metadata": {
        "id": "_iDinGpe4rTj"
      },
      "execution_count": 11,
      "outputs": []
    },
    {
      "cell_type": "code",
      "source": [
        "# min_then_sum tests\n",
        "a1 = np.array([1.,2.,3.])\n",
        "b1 = np.array([1.,1.,1.])\n",
        "mts1 = min_then_sum(a1,b1,(0,))\n",
        "print(mts1) # should be 4.0\n",
        "a2 = np.arange(40).reshape(2,4,5) # 3-dimensional array with shape (2,4,5)\n",
        "b2 = np.ones([40]).reshape(2,4,5) # 3-dimensional array with shape (2,4,5)\n",
        "mts2 = min_then_sum(a2,b2,(0,2)) # 1-dimensional array with shape (4,)\n",
        "print(mts2) # should be [25., 30., 35., 40.]"
      ],
      "metadata": {
        "id": "5cA_kUprTb8k"
      },
      "execution_count": null,
      "outputs": []
    },
    {
      "cell_type": "code",
      "source": [
        "def sum_then_min(array_1,array_2,axes):\n",
        "  \"\"\"\n",
        "  Take sum of array_1 and array_2 over axes, then return the elementwise\n",
        "  min of the resulting arrays.\n",
        "  Hint: if a, b are arrays with same shape, np.minimum(a,b) is elementwise min \n",
        "  of a and b.\n",
        "  \"\"\"\n",
        "  assert array_1.shape == array_2.shape\n",
        "\n",
        "  array_1 = np.sum(array_1, axis = axes)\n",
        "  array_2 = np.sum(array_2, axis = axes)\n",
        "\n",
        "  return(np.minimum(array_1, array_2))"
      ],
      "metadata": {
        "id": "x6iQTl95TbI5"
      },
      "execution_count": 13,
      "outputs": []
    },
    {
      "cell_type": "code",
      "source": [
        "# sum_then_min tests\n",
        "a1 = np.array([1.,2.,3.])\n",
        "b1 = np.array([1.,1.,1.])\n",
        "stm1 = sum_then_min(a1,b1,(0,))\n",
        "print(stm1) # should be 3.0\n",
        "a2 = np.arange(40).reshape(2,4,5) # 3-dimensional array with shape (2,4,5)\n",
        "b2 = np.ones([40]).reshape(2,4,5) # 3-dimensional array with shape (2,4,5)\n",
        "stm2 = sum_then_min(a2,b2,(0,2)) # 1-dimensional array with shape (4,)\n",
        "print(stm2) # should be [10. 10. 10. 10.]"
      ],
      "metadata": {
        "id": "jpjOjR6eUcl4"
      },
      "execution_count": null,
      "outputs": []
    },
    {
      "cell_type": "markdown",
      "source": [
        "### Computing Mean and Variance of a Discrete Distribution\n",
        "\n",
        "A discrete distribution is defined over a list of values, often called its **support**. Each item in the support has an associated **probability mass function**, which we will shorten to **pmf**.\n",
        "\n",
        "The mean of the distribution (a scalar) can be computed with the following equation:\n",
        "\n",
        "$$ \\texttt{mean} = \\sum_i \\texttt{pmf[i]} * \\texttt{support[i]}$$\n",
        "\n",
        "Similary, the variance of the distribution (a scalar) can be computed with this equation:\n",
        "\n",
        "$$ \\texttt{variance} = \\sum_i \\texttt{pmf[i]} * (\\texttt{support[i]} - \\texttt{mean})^2 $$\n",
        "\n",
        "Implement these equations as the functions `compute_mean` and `compute_variance`.\n",
        "\n",
        "Note: you should not use a loop, instead use the `np.sum()` function!"
      ],
      "metadata": {
        "id": "kwBYNneDYmW4"
      }
    },
    {
      "cell_type": "code",
      "source": [
        "def compute_mean(support,pmf):\n",
        "  \"\"\"\n",
        "  Compute mean of the multinomial distribution\n",
        "  Arguments:\n",
        "    support: 1D numpy array, support of distribution\n",
        "    pmf: 1D numpy array, probability mass function\n",
        "  Returns:\n",
        "    mean: float, the mean of the distribution\n",
        "  \"\"\"\n",
        "  #assert len(support) == len(pmf)\n",
        "\n",
        "  mean = np.sum(pmf * support)\n",
        "  \n",
        "  return(mean)\n",
        "\n"
      ],
      "metadata": {
        "id": "gQk9SMATzrUG"
      },
      "execution_count": 15,
      "outputs": []
    },
    {
      "cell_type": "code",
      "source": [
        "# compute_mean tests\n",
        "support1 = np.arange(5)\n",
        "pmf1 = np.array([0.2,0.2,0.2,0.2,0.2])\n",
        "\n",
        "mean1 = compute_mean(support1,pmf1)\n",
        "print(mean1) # should be 2.0\n",
        "support2 = np.arange(3)\n",
        "pmf2 = np.array([0.3,0.2,0.5])\n",
        "mean2 = compute_mean(support2,pmf2)\n",
        "print(mean2) # should be 1.2"
      ],
      "metadata": {
        "id": "16N3ZoncU4RN"
      },
      "execution_count": null,
      "outputs": []
    },
    {
      "cell_type": "code",
      "source": [
        "def compute_variance(support,pmf):\n",
        "  \"\"\"\n",
        "  Compute variance of the multinomial distribution\n",
        "  Arguments:\n",
        "    support: 1D numpy array, support of distribution\n",
        "    pmf: 1D numpy array, probability mass function\n",
        "  Returns:\n",
        "    variance: float, the variance of the distribution\n",
        "  \"\"\"\n",
        "  #assert len(support) == len(pmf)\n",
        "\n",
        "  mean = np.sum(pmf * support)\n",
        "  variance = np.sum(pmf*(support-mean)**2)\n",
        "\n",
        "  return variance"
      ],
      "metadata": {
        "id": "ykZP-b5eA21Y"
      },
      "execution_count": 17,
      "outputs": []
    },
    {
      "cell_type": "code",
      "source": [
        "# compute_variance tests\n",
        "support1 = np.arange(5)\n",
        "pmf1 = np.array([0.2,0.2,0.2,0.2,0.2])\n",
        "var1 = compute_variance(support1,pmf1)\n",
        "print(var1) # should be 2.0\n",
        "support2 = np.arange(3)\n",
        "pmf2 = np.array([0.3,0.2,0.5])\n",
        "var2 = compute_variance(support2,pmf2)\n",
        "print(var2) # should be 0.76"
      ],
      "metadata": {
        "id": "dYACc7scWzBI"
      },
      "execution_count": null,
      "outputs": []
    },
    {
      "cell_type": "markdown",
      "source": [
        "Now, apply your `compute_mean` and `compute_variance` functions to estimate the mean and variance of a distribution from samples, by completing the `estimate_distribution` function below:"
      ],
      "metadata": {
        "id": "oi3ckrWGeqVL"
      }
    },
    {
      "cell_type": "code",
      "source": [
        "\n",
        "def estimate_distribution(support,true_pmf,num_samples):\n",
        "  \"\"\"\n",
        "  Draw IID samples from the distribution, estimate the distribution's parameters,\n",
        "  and compute and print the true and estimated mean and variance.\n",
        "  Arguments:\n",
        "    support: 1D numpy array, support of distribution\n",
        "    true_pmf: 1D numpy array, true probability mass function\n",
        "    num_samples: int, number of samples to draw\n",
        "  Returns:\n",
        "    None\n",
        "  \"\"\"\n",
        "  assert len(support) == len(true_pmf)\n",
        "  assert num_samples > 0\n",
        "  # compute true mean and variance using helper functions\n",
        "  true_mean = compute_mean(support, true_pmf)\n",
        "  true_variance = compute_variance(support, true_pmf)\n",
        "  # sample data from the true distribution\n",
        "  # samples is an array of size [num_samples,len(support)]\n",
        "  samples = np.random.multinomial(1,true_pmf,size=(num_samples,))\n",
        "  # estimate pmf by taking mean across samples (the 0th axis)\n",
        "  est_pmf = np.mean(samples)\n",
        "  # compute estimated mean and variance using helper functions\n",
        "  est_mean = compute_mean(support, est_pmf)\n",
        "  est_variance = compute_variance(support, est_pmf)\n",
        "  # print out the results\n",
        "  print(f\"True Statistics: Mean = {true_mean}, Variance = {true_variance}\")\n",
        "  print(f\"Estimated Statistics: Mean = {est_mean}, Variance = {est_variance}\")"
      ],
      "metadata": {
        "id": "-Afkhl9_XDU8"
      },
      "execution_count": 19,
      "outputs": []
    },
    {
      "cell_type": "code",
      "source": [
        "# estimate_distribution tests\n",
        "# the estimated means and variances should be close to the real ones\n",
        "# there might be some inaccuracy since the estimate has some randomness\n",
        "num_samples = 1000\n",
        "support1 = np.arange(5)\n",
        "pmf1 = np.array([0.2,0.2,0.2,0.2,0.2])\n",
        "estimate_distribution(support1,pmf1,num_samples)\n",
        "support2 = np.arange(3)\n",
        "pmf2 = np.array([0.3,0.2,0.5])\n",
        "estimate_distribution(support2,pmf2,num_samples)"
      ],
      "metadata": {
        "id": "LJn4-IJcXP7m",
        "colab": {
          "base_uri": "https://localhost:8080/"
        },
        "outputId": "6d492030-4284-4636-c7c4-bfd477ca3742"
      },
      "execution_count": 20,
      "outputs": [
        {
          "output_type": "stream",
          "name": "stdout",
          "text": [
            "True Statistics: Mean = 2.0, Variance = 2.0\n",
            "Estimated Statistics: Mean = 2.0, Variance = 2.0\n",
            "True Statistics: Mean = 1.2, Variance = 0.76\n",
            "Estimated Statistics: Mean = 1.0, Variance = 0.6666666666666666\n"
          ]
        }
      ]
    }
  ]
}