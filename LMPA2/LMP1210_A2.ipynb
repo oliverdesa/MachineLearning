{
  "nbformat": 4,
  "nbformat_minor": 0,
  "metadata": {
    "colab": {
      "provenance": []
    },
    "kernelspec": {
      "name": "python3",
      "display_name": "Python 3"
    },
    "language_info": {
      "name": "python"
    }
  },
  "cells": [
    {
      "cell_type": "code",
      "source": [
        "import numpy as np\n",
        "import pandas as pd\n",
        "import matplotlib.pyplot as plt\n",
        "from sklearn.datasets import make_classification\n",
        "from sklearn.model_selection import train_test_split\n",
        "from sklearn.linear_model import LogisticRegression\n",
        "from sklearn.ensemble import RandomForestClassifier\n",
        "from sklearn.inspection import permutation_importance\n",
        "import sklearn.metrics as met\n",
        "import xgboost as xgb\n",
        "from sklearn.neural_network import MLPClassifier\n",
        "import seaborn as sns"
      ],
      "metadata": {
        "id": "2sUM_9H9xf_D"
      },
      "execution_count": null,
      "outputs": []
    },
    {
      "cell_type": "markdown",
      "source": [
        "**Question 2a)**"
      ],
      "metadata": {
        "id": "9RyDnDWfnxl1"
      }
    },
    {
      "cell_type": "code",
      "source": [
        "def load_data(csvFile):\n",
        "\n",
        "    # read csv to dataframe and replace NAs w/ 0\n",
        "    df = pd.read_csv(csvFile)\n",
        "    df = df.fillna(0)\n",
        "\n",
        "    # Define the labelled target column and drop it from the independant variables\n",
        "    Target = df['Dataset']\n",
        "    df = df.drop(columns = ['Dataset'])\n",
        "\n",
        "    # Convert the Gender data to quantitative values\n",
        "    df['Gender'].replace(['Male', 'Female'],\n",
        "                        [0, 1], inplace=True)\n",
        "\n",
        "    # Generate train test split\n",
        "    X_train, X_test, y_train, y_test = train_test_split(df, Target, test_size=0.3,\n",
        "                                                        random_state = 1)\n",
        "\n",
        "    # Split test data further into test/validation\n",
        "    X_test, X_valid, y_test, y_valid = train_test_split(X_test, y_test, test_size=0.3,\n",
        "                                                        random_state = 1)\n",
        "\n",
        "    return(X_train, y_train, X_valid, y_valid, X_test, y_test)"
      ],
      "metadata": {
        "id": "PU7K108wjWIz"
      },
      "execution_count": null,
      "outputs": []
    },
    {
      "cell_type": "code",
      "source": [
        "# Load the data for use\n",
        "X_train, y_train, X_valid, y_valid, X_test, y_test = load_data('hw1_data.csv')\n",
        "\n",
        "#test print to check if data was properly split\n",
        "#print(len(X_train), len(y_train), len(X_valid), len(y_valid), len(X_test), len(y_test))"
      ],
      "metadata": {
        "id": "FGGHTzwrjhOm"
      },
      "execution_count": null,
      "outputs": []
    },
    {
      "cell_type": "code",
      "source": [
        "def select_rf_model(X_train, y_train, X_valid, y_valid, X_test, y_test):\n",
        "\n",
        "  # Define n_estimators\n",
        "  n_estimators = [10, 20, 50, 100]\n",
        "\n",
        "  # Initial empty lists to store generated accuracies\n",
        "  ValidAccuracies = []\n",
        "  TrainAccuracies = []\n",
        "\n",
        "  # For each n, fit the model on the training data and predict \n",
        "  # training and validation accuracies, storing and plotting the respective them\n",
        "  for n in n_estimators:\n",
        "      model = RandomForestClassifier(n_estimators = n)\n",
        "      model.fit(X_train, y_train)\n",
        "\n",
        "      train_pred = model.predict(X_train)\n",
        "\n",
        "      TrainAccuracies.append(met.accuracy_score(y_train, train_pred))\n",
        "\n",
        "      val_pred = model.predict(X_valid)\n",
        "\n",
        "      ValidAccuracies.append(met.accuracy_score(y_valid, val_pred))\n",
        "\n",
        "  # Cat the results into a dataframe for easier visualizaiton\n",
        "  nAccuracies = pd.DataFrame(zip(n_estimators, TrainAccuracies, ValidAccuracies), \n",
        "                            columns = ['n_Estimators', 'Train Accuracy', 'Validation Accuracy'])\n",
        "\n",
        "  # Plot the training accuracy for each value of k\n",
        "  plt.plot(n_estimators, nAccuracies['Train Accuracy'], 'b-', label='Training Accuracy')\n",
        "\n",
        "  # Plot the validation accuracy for each value of k\n",
        "  plt.plot(n_estimators, nAccuracies['Validation Accuracy'], 'r-', label='Validation Accuracy')\n",
        "\n",
        "  plt.xlabel(\"n\")\n",
        "  plt.ylabel(\"Accuracy\")\n",
        "  plt.title(\"Accuracy for RF\")\n",
        "  plt.legend(loc='best')\n",
        "  plt.show()\n",
        "\n",
        "  return(nAccuracies)"
      ],
      "metadata": {
        "id": "0CAm-7hJjnKf"
      },
      "execution_count": null,
      "outputs": []
    },
    {
      "cell_type": "code",
      "source": [
        "select_rf_model(X_train, y_train, X_valid, y_valid, X_test, y_test)\n",
        "# Selecting an n_estimator of 10 seems to consistently perform on par with other\n",
        "# values while giving a lower train accuracy. I will choose this to avoid\n",
        "# over-fitting while still maintaining a reasonable accuracy"
      ],
      "metadata": {
        "id": "rLYEq3rljhyD",
        "outputId": "6cd17fbb-ec56-437a-f270-79f6a07b8145",
        "colab": {
          "base_uri": "https://localhost:8080/",
          "height": 451
        }
      },
      "execution_count": null,
      "outputs": [
        {
          "output_type": "display_data",
          "data": {
            "text/plain": [
              "<Figure size 432x288 with 1 Axes>"
            ],
            "image/png": "[encoded data removed]"
          },
          "metadata": {
            "needs_background": "light"
          }
        },
        {
          "output_type": "execute_result",
          "data": {
            "text/plain": [
              "   n_Estimators  Train Accuracy  Validation Accuracy\n",
              "0            10        0.977941             0.735849\n",
              "1            20        0.995098             0.660377\n",
              "2            50        1.000000             0.716981\n",
              "3           100        1.000000             0.716981"
            ],
            "text/html": [
              "\n",
              "  <div id=\"df-7931c082-bfd4-4ef5-9484-ed180721b844\">\n",
              "    <div class=\"colab-df-container\">\n",
              "      <div>\n",
              "<style scoped>\n",
              "    .dataframe tbody tr th:only-of-type {\n",
              "        vertical-align: middle;\n",
              "    }\n",
              "\n",
              "    .dataframe tbody tr th {\n",
              "        vertical-align: top;\n",
              "    }\n",
              "\n",
              "    .dataframe thead th {\n",
              "        text-align: right;\n",
              "    }\n",
              "</style>\n",
              "<table border=\"1\" class=\"dataframe\">\n",
              "  <thead>\n",
              "    <tr style=\"text-align: right;\">\n",
              "      <th></th>\n",
              "      <th>n_Estimators</th>\n",
              "      <th>Train Accuracy</th>\n",
              "      <th>Validation Accuracy</th>\n",
              "    </tr>\n",
              "  </thead>\n",
              "  <tbody>\n",
              "    <tr>\n",
              "      <th>0</th>\n",
              "      <td>10</td>\n",
              "      <td>0.977941</td>\n",
              "      <td>0.735849</td>\n",
              "    </tr>\n",
              "    <tr>\n",
              "      <th>1</th>\n",
              "      <td>20</td>\n",
              "      <td>0.995098</td>\n",
              "      <td>0.660377</td>\n",
              "    </tr>\n",
              "    <tr>\n",
              "      <th>2</th>\n",
              "      <td>50</td>\n",
              "      <td>1.000000</td>\n",
              "      <td>0.716981</td>\n",
              "    </tr>\n",
              "    <tr>\n",
              "      <th>3</th>\n",
              "      <td>100</td>\n",
              "      <td>1.000000</td>\n",
              "      <td>0.716981</td>\n",
              "    </tr>\n",
              "  </tbody>\n",
              "</table>\n",
              "</div>\n",
              "      <button class=\"colab-df-convert\" onclick=\"convertToInteractive('df-7931c082-bfd4-4ef5-9484-ed180721b844')\"\n",
              "              title=\"Convert this dataframe to an interactive table.\"\n",
              "              style=\"display:none;\">\n",
              "        \n",
              "  <svg xmlns=\"http://www.w3.org/2000/svg\" height=\"24px\"viewBox=\"0 0 24 24\"\n",
              "       width=\"24px\">\n",
              "    <path d=\"M0 0h24v24H0V0z\" fill=\"none\"/>\n",
              "    <path d=\"M18.56 5.44l.94 2.06.94-2.06 2.06-.94-2.06-.94-.94-2.06-.94 2.06-2.06.94zm-11 1L8.5 8.5l.94-2.06 2.06-.94-2.06-.94L8.5 2.5l-.94 2.06-2.06.94zm10 10l.94 2.06.94-2.06 2.06-.94-2.06-.94-.94-2.06-.94 2.06-2.06.94z\"/><path d=\"M17.41 7.96l-1.37-1.37c-.4-.4-.92-.59-1.43-.59-.52 0-1.04.2-1.43.59L10.3 9.45l-7.72 7.72c-.78.78-.78 2.05 0 2.83L4 21.41c.39.39.9.59 1.41.59.51 0 1.02-.2 1.41-.59l7.78-7.78 2.81-2.81c.8-.78.8-2.07 0-2.86zM5.41 20L4 18.59l7.72-7.72 1.47 1.35L5.41 20z\"/>\n",
              "  </svg>\n",
              "      </button>\n",
              "      \n",
              "  <style>\n",
              "    .colab-df-container {\n",
              "      display:flex;\n",
              "      flex-wrap:wrap;\n",
              "      gap: 12px;\n",
              "    }\n",
              "\n",
              "    .colab-df-convert {\n",
              "      background-color: #E8F0FE;\n",
              "      border: none;\n",
              "      border-radius: 50%;\n",
              "      cursor: pointer;\n",
              "      display: none;\n",
              "      fill: #1967D2;\n",
              "      height: 32px;\n",
              "      padding: 0 0 0 0;\n",
              "      width: 32px;\n",
              "    }\n",
              "\n",
              "    .colab-df-convert:hover {\n",
              "      background-color: #E2EBFA;\n",
              "      box-shadow: 0px 1px 2px rgba(60, 64, 67, 0.3), 0px 1px 3px 1px rgba(60, 64, 67, 0.15);\n",
              "      fill: #174EA6;\n",
              "    }\n",
              "\n",
              "    [theme=dark] .colab-df-convert {\n",
              "      background-color: #3B4455;\n",
              "      fill: #D2E3FC;\n",
              "    }\n",
              "\n",
              "    [theme=dark] .colab-df-convert:hover {\n",
              "      background-color: #434B5C;\n",
              "      box-shadow: 0px 1px 3px 1px rgba(0, 0, 0, 0.15);\n",
              "      filter: drop-shadow(0px 1px 2px rgba(0, 0, 0, 0.3));\n",
              "      fill: #FFFFFF;\n",
              "    }\n",
              "  </style>\n",
              "\n",
              "      <script>\n",
              "        const buttonEl =\n",
              "          document.querySelector('#df-7931c082-bfd4-4ef5-9484-ed180721b844 button.colab-df-convert');\n",
              "        buttonEl.style.display =\n",
              "          google.colab.kernel.accessAllowed ? 'block' : 'none';\n",
              "\n",
              "        async function convertToInteractive(key) {\n",
              "          const element = document.querySelector('#df-7931c082-bfd4-4ef5-9484-ed180721b844');\n",
              "          const dataTable =\n",
              "            await google.colab.kernel.invokeFunction('convertToInteractive',\n",
              "                                                     [key], {});\n",
              "          if (!dataTable) return;\n",
              "\n",
              "          const docLinkHtml = 'Like what you see? Visit the ' +\n",
              "            '<a target=\"_blank\" href=https://colab.research.google.com/notebooks/data_table.ipynb>data table notebook</a>'\n",
              "            + ' to learn more about interactive tables.';\n",
              "          element.innerHTML = '';\n",
              "          dataTable['output_type'] = 'display_data';\n",
              "          await google.colab.output.renderOutput(dataTable, element);\n",
              "          const docLink = document.createElement('div');\n",
              "          docLink.innerHTML = docLinkHtml;\n",
              "          element.appendChild(docLink);\n",
              "        }\n",
              "      </script>\n",
              "    </div>\n",
              "  </div>\n",
              "  "
            ]
          },
          "metadata": {},
          "execution_count": 5
        }
      ]
    },
    {
      "cell_type": "code",
      "source": [
        "# best n_estimator selected and used on test data\n",
        "\n",
        "# Initiate the model with an n_estimator corresponding to the highest validation accuracy\n",
        "model = RandomForestClassifier(n_estimators=10)\n",
        "\n",
        "# Fit the model on the training data\n",
        "model.fit(X_train, y_train)\n",
        "\n",
        "# employ the model on the test data\n",
        "test_pred = model.predict(X_test)\n",
        "\n",
        "# Compute the accuracy score for the test predictions\n",
        "test_accuracy = met.accuracy_score(y_test, test_pred)\n",
        "\n",
        "print(test_accuracy)\n",
        "\n",
        "# The model with an n_estimator corresponding to the highest validation accuracy\n",
        "# achieves an accuracy score of ~0.7377049180327869 on the test data"
      ],
      "metadata": {
        "id": "UpnfOBBDnKwv",
        "outputId": "1a6fa9f2-d6d8-424d-b8dd-b9b09050d736",
        "colab": {
          "base_uri": "https://localhost:8080/"
        }
      },
      "execution_count": null,
      "outputs": [
        {
          "output_type": "stream",
          "name": "stdout",
          "text": [
            "0.680327868852459\n"
          ]
        }
      ]
    },
    {
      "cell_type": "markdown",
      "source": [
        "**Question 2a)** Comparing results from all 4 of my models, The random forest with 10 n_estimators and logistic regression both achieved test accuracies of approximately 73.77%, whereas the KNN achieved a test accuracy of 71.31% and the decision tree 59.02%. While the actual test accuracy varies with each run, it seems that the random forest with n_estimator = 10 and logistic regression models were the most accurate on the test data."
      ],
      "metadata": {
        "id": "mEq8BBsuprY2"
      }
    },
    {
      "cell_type": "markdown",
      "source": [
        "**Question 2b)**"
      ],
      "metadata": {
        "id": "wuzS7nh3xD8J"
      }
    },
    {
      "cell_type": "code",
      "source": [
        "# Initiate the model with an n_estimator corresponding to the highest validation accuracy\n",
        "model = RandomForestClassifier(n_estimators=10)\n",
        "\n",
        "# Fit the model on the training data\n",
        "model.fit(X_train, y_train)\n",
        "\n",
        "# Use the feature_importances_ method\n",
        "importances = model.feature_importances_\n",
        "\n",
        "# Sort the feature importances in descending order\n",
        "indices = np.argsort(importances)[::-1]\n",
        "\n",
        "# Rearrange feature names so they match the sorted feature importances\n",
        "names = [X_train.columns[i] for i in indices]\n",
        "\n",
        "# Create plot\n",
        "plt.figure()\n",
        "\n",
        "# Create plot title and labels\n",
        "plt.title(\"Feature Importance\")\n",
        "plt.xlabel(\"Features\")\n",
        "plt.ylabel(\"Importance\")\n",
        "\n",
        "# Add bars\n",
        "plt.bar(range(X_train.shape[1]), importances[indices])\n",
        "\n",
        "# Add feature names as x-axis labels\n",
        "plt.xticks(range(X_train.shape[1]), names, rotation=90)\n",
        "\n",
        "# Show plot\n",
        "plt.show()"
      ],
      "metadata": {
        "id": "WYSuFC4QqfMF",
        "outputId": "fce4cf84-aa60-4db7-ad23-c38e1a788f7b",
        "colab": {
          "base_uri": "https://localhost:8080/",
          "height": 428
        }
      },
      "execution_count": null,
      "outputs": [
        {
          "output_type": "display_data",
          "data": {
            "text/plain": [
              "<Figure size 432x288 with 1 Axes>"
            ],
            "image/png": "[encoded data removed]"
          },
          "metadata": {
            "needs_background": "light"
          }
        }
      ]
    },
    {
      "cell_type": "code",
      "source": [
        "# using permutation method\n",
        "\n",
        "result = permutation_importance(model, X_train, y_train, scoring='accuracy')\n",
        "\n",
        "# Get the sorted indices of feature importances\n",
        "sorted_idx = result.importances_mean.argsort()\n",
        "\n",
        "# Plot the feature importances\n",
        "fig, ax = plt.subplots()\n",
        "ax.boxplot(result.importances[sorted_idx].T, vert=False, labels=X_train.columns[sorted_idx])\n",
        "ax.set_title(\"Permutation Importances (mean)\")\n",
        "fig.tight_layout()\n",
        "plt.show()"
      ],
      "metadata": {
        "id": "e-moyQMny9h3",
        "outputId": "3856dab4-aef0-4e03-8ac7-aa76518feebc",
        "colab": {
          "base_uri": "https://localhost:8080/",
          "height": 297
        }
      },
      "execution_count": null,
      "outputs": [
        {
          "output_type": "display_data",
          "data": {
            "text/plain": [
              "<Figure size 432x288 with 1 Axes>"
            ],
            "image/png": "[encoded data removed]"
          },
          "metadata": {
            "needs_background": "light"
          }
        }
      ]
    },
    {
      "cell_type": "markdown",
      "source": [
        "**Question 2b)** While in general both models seem to identify certain features that are more important such as Alamine_aminotransferase and some that are less important such as gender, the ranking of importance is not exactly the same between the two methods."
      ],
      "metadata": {
        "id": "gD0FddcF0JnL"
      }
    },
    {
      "cell_type": "markdown",
      "source": [
        "**Question 3a)**"
      ],
      "metadata": {
        "id": "xyU3raXcnLsh"
      }
    },
    {
      "cell_type": "code",
      "source": [
        "X, y = make_classification(n_samples=1000, n_features=20, weights=[0.9, 0.1], \n",
        "                           random_state=55)"
      ],
      "metadata": {
        "id": "pBH7KC6hMIyh"
      },
      "execution_count": null,
      "outputs": []
    },
    {
      "cell_type": "code",
      "source": [
        "X_train, X_test, y_train, y_test = train_test_split(X, y, test_size=0.3,\n",
        "                                                    random_state=55, stratify=y)"
      ],
      "metadata": {
        "id": "j4pa1ae2Me-K"
      },
      "execution_count": null,
      "outputs": []
    },
    {
      "cell_type": "code",
      "source": [
        "# Instantiate a LogisticRegression model\n",
        "model = LogisticRegression()\n",
        "\n",
        "# Train the model on the training data\n",
        "model.fit(X_train, y_train)\n",
        "\n",
        "# Use the model to predict the labels for the test data\n",
        "y_pred = model.predict(X_test)\n",
        "\n",
        "# Evaluate the model's performance using various metrics\n",
        "acc = met.accuracy_score(y_test, y_pred)\n",
        "prec = met.precision_score(y_test, y_pred)\n",
        "rec = met.recall_score(y_test, y_pred)\n",
        "f1 = met.f1_score(y_test, y_pred)\n",
        "\n",
        "# Print the evaluation metrics to the console\n",
        "print(\"Accuracy: {:.2f}\".format(acc))\n",
        "print(\"Precision: {:.2f}\".format(prec))\n",
        "print(\"Recall: {:.2f}\".format(rec))\n",
        "print(\"F1 score: {:.2f}\".format(f1))\n",
        "\n",
        "# Use the model to predict the probabilities of each label for the test data\n",
        "y_prob = model.predict_proba(X_test)[:,1]\n",
        "\n",
        "# Compute the precision and recall values for different probability thresholds\n",
        "precision, recall, _ = met.precision_recall_curve(y_test, y_prob)\n",
        "\n",
        "# Compute the false positive rate and true positive rate for different probability thresholds\n",
        "fpr, tpr, _ = met.roc_curve(y_test, y_prob)\n",
        "\n",
        "# Compute the area under the precision-recall and ROC curves\n",
        "auc_pr = np.trapz(precision, recall)\n",
        "auc_roc = met.roc_auc_score(y_test, y_prob)\n",
        "\n",
        "# Plot the precision-recall and ROC curves\n",
        "plt.figure(figsize=(10,7))\n",
        "\n",
        "plt.subplot(121)\n",
        "plt.plot(recall, precision, label='PR curve (AUC={:.2f})'.format(auc_pr))\n",
        "plt.xlabel('Recall')\n",
        "plt.ylabel('Precision')\n",
        "plt.legend()\n",
        "\n",
        "plt.subplot(122)\n",
        "plt.plot(fpr, tpr, label='ROC curve (AUC={:.2f})'.format(auc_roc))\n",
        "plt.xlabel('False Positive Rate')\n",
        "plt.ylabel('True Positive Rate')\n",
        "plt.legend()\n"
      ],
      "metadata": {
        "id": "f2I1JpLnM-5g",
        "outputId": "9b7acc0f-6f63-4d26-b973-64e143e8c334",
        "colab": {
          "base_uri": "https://localhost:8080/",
          "height": 527
        }
      },
      "execution_count": null,
      "outputs": [
        {
          "output_type": "stream",
          "name": "stdout",
          "text": [
            "Accuracy: 0.93\n",
            "Precision: 0.72\n",
            "Recall: 0.58\n",
            "F1 score: 0.64\n"
          ]
        },
        {
          "output_type": "execute_result",
          "data": {
            "text/plain": [
              "<matplotlib.legend.Legend at 0x7f8ebe08de50>"
            ]
          },
          "metadata": {},
          "execution_count": 11
        },
        {
          "output_type": "display_data",
          "data": {
            "text/plain": [
              "<Figure size 720x504 with 2 Axes>"
            ],
            "image/png": "[encoded data removed]"
          },
          "metadata": {
            "needs_background": "light"
          }
        }
      ]
    },
    {
      "cell_type": "markdown",
      "source": [
        "**Question 3b)** A common way that we can improve recall without ruining precision in the case of imbalanced data is it alter the threshold used to predict positive labels. Because we have an imbalanced dataset and the positive class is rare in this case, we can decrease the threshold to classify more instances as positive. This method does increase the chances of classifying false positives as a trade off."
      ],
      "metadata": {
        "id": "FQj-DMSq7yfM"
      }
    },
    {
      "cell_type": "code",
      "source": [
        "# Question 3b) implemented:\n",
        "\n",
        "# Instantiate a LogisticRegression model with the 'balanced' class weight option\n",
        "model = LogisticRegression(class_weight='balanced')\n",
        "\n",
        "# Train the model on the training data\n",
        "model.fit(X_train, y_train)\n",
        "\n",
        "# Use the model to predict the probabilities of each label for the test data\n",
        "y_prob = model.predict_proba(X_test)[:,1]\n",
        "\n",
        "# Use a new threshold to predict the labels for the test data, with the aim of \n",
        "# improving recall\n",
        "new_threshold = 0.3\n",
        "y_pred = (y_prob >= new_threshold).astype(int)\n",
        "\n",
        "# Evaluate the new model's performance using various metrics\n",
        "acc = met.accuracy_score(y_test, y_pred)\n",
        "prec = met.precision_score(y_test, y_pred)\n",
        "rec = met.recall_score(y_test, y_pred)\n",
        "f1 = met.f1_score(y_test, y_pred)\n",
        "\n",
        "# Print the evaluation metrics to the console\n",
        "print(\"Accuracy: {:.2f}\".format(acc))\n",
        "print(\"Precision: {:.2f}\".format(prec))\n",
        "print(\"Recall: {:.2f}\".format(rec))\n",
        "print(\"F1 score: {:.2f}\".format(f1))\n",
        "\n",
        "# Compute the precision and recall values for different probability thresholds\n",
        "precision, recall, _ = met.precision_recall_curve(y_test, y_prob)\n",
        "\n",
        "# Compute the false positive rate and true positive rate for different probability thresholds\n",
        "fpr, tpr, _ = met.roc_curve(y_test, y_prob)\n",
        "\n",
        "# Compute the area under the precision-recall and ROC curves\n",
        "auc_pr = np.trapz(precision, recall)\n",
        "auc_roc = met.roc_auc_score(y_test, y_prob)\n",
        "\n",
        "# Plot the precision-recall and ROC curves\n",
        "plt.figure(figsize=(10,7))\n",
        "\n",
        "plt.subplot(121)\n",
        "plt.plot(recall, precision, label='PR curve (AUC={:.2f})'.format(auc_pr))\n",
        "plt.plot([0, 1], [prec, prec], 'r--', label='Precision at {:.2f} threshold'.format(new_threshold))\n",
        "plt.xlabel('Recall')\n",
        "plt.ylabel('Precision')\n",
        "plt.legend()\n",
        "\n",
        "plt.subplot(122)\n",
        "plt.plot(fpr, tpr, label='ROC curve (AUC={:.2f})'.format(auc_roc))\n",
        "plt.plot([0, 1], [0, 1], 'k--')\n",
        "plt.plot([0, 1], [tpr[np.argmax(tpr >= new_threshold)], tpr[np.argmax(tpr >= new_threshold)]],\n",
        "         'r--', label='Recall at {:.2f} threshold'.format(new_threshold))\n",
        "plt.xlabel('False Positive Rate')\n",
        "plt.ylabel('True Positive Rate')\n",
        "plt.legend()"
      ],
      "metadata": {
        "id": "p-8hoFvJ8_E5",
        "outputId": "151d1b46-8223-4dac-8269-7f535480a026",
        "colab": {
          "base_uri": "https://localhost:8080/",
          "height": 527
        }
      },
      "execution_count": null,
      "outputs": [
        {
          "output_type": "stream",
          "name": "stdout",
          "text": [
            "Accuracy: 0.86\n",
            "Precision: 0.42\n",
            "Recall: 0.87\n",
            "F1 score: 0.56\n"
          ]
        },
        {
          "output_type": "execute_result",
          "data": {
            "text/plain": [
              "<matplotlib.legend.Legend at 0x7f8ebded35e0>"
            ]
          },
          "metadata": {},
          "execution_count": 12
        },
        {
          "output_type": "display_data",
          "data": {
            "text/plain": [
              "<Figure size 720x504 with 2 Axes>"
            ],
            "image/png": "[encoded data removed]"
          },
          "metadata": {
            "needs_background": "light"
          }
        }
      ]
    },
    {
      "cell_type": "markdown",
      "source": [
        "**Question 3b)** By lowering the threshold, I was able to improve the recall by about 30%, however, my precision was also dropped by about 30%."
      ],
      "metadata": {
        "id": "1PYHTNx08LCZ"
      }
    },
    {
      "cell_type": "markdown",
      "source": [
        "**Question 6**"
      ],
      "metadata": {
        "id": "MwZsfCpK95-v"
      }
    },
    {
      "cell_type": "code",
      "source": [
        "# Function to read data from csv and split it into train/validation/test groups\n",
        "def load_data(csvFile):\n",
        "\n",
        "    # read csv to dataframe\n",
        "    df = pd.read_csv(csvFile)\n",
        "\n",
        "    df['Cell Type'].replace(['B', 'CD14 Monocytes'],\n",
        "                        [0, 1], inplace=True)\n",
        "\n",
        "    # Define the labelled target column and drop it from the independant variables\n",
        "    Target = df['Cell Type']\n",
        "    df = df.drop(columns = ['Cell Type'])\n",
        "\n",
        "    # Generate train test split\n",
        "    X_train, X_test, y_train, y_test = train_test_split(df, Target, test_size=0.3,\n",
        "                                                        random_state = 1)\n",
        "\n",
        "    return(X_train, y_train, X_test, y_test)"
      ],
      "metadata": {
        "id": "P4ZnUcmZBgko"
      },
      "execution_count": null,
      "outputs": []
    },
    {
      "cell_type": "code",
      "source": [
        "X_train, y_train, X_test, y_test = load_data('hw2_data.csv')"
      ],
      "metadata": {
        "id": "ptg5puI-DMZW"
      },
      "execution_count": null,
      "outputs": []
    },
    {
      "cell_type": "code",
      "source": [
        "data = pd.read_csv('hw2_data.csv')\n",
        "\n",
        "# define feature names\n",
        "feature_names = X_train.columns\n",
        "\n",
        "# Train the XGBoost model\n",
        "model = xgb.XGBClassifier()\n",
        "model.fit(X_train, y_train)\n",
        "\n",
        "# Make predictions on the testing set and calculate accuracy\n",
        "y_pred = model.predict(X_test)\n",
        "accuracy = accuracy_score(y_test, y_pred)\n",
        "print(\"Accuracy: %.2f%%\" % (accuracy * 100.0))\n",
        "\n",
        "# Get the feature importance scores for the top 30 features\n",
        "top_30_features = np.argsort(model.feature_importances_)[::-1][:30]\n",
        "\n",
        "gene_names = data.columns[1:]\n",
        "\n",
        "top_30_gene_names = gene_names[top_30_features]\n",
        "\n",
        "mean_expression_levels = data.groupby('Cell Type')[top_30_gene_names].mean()\n",
        "\n",
        "# Create heatmap using seaborn\n",
        "fig, ax = plt.subplots(figsize=(10, 8))\n",
        "sns.heatmap(mean_expression_levels, ax=ax, cmap='coolwarm')\n",
        "\n",
        "# Set the title and axis labels\n",
        "ax.set_title('Mean expression levels of top 30 genes by cell type')\n",
        "ax.set_xlabel('Genes')\n",
        "ax.set_ylabel('Cell type')\n",
        "\n",
        "# Rotate the x-axis tick labels for better visibility\n",
        "plt.xticks(rotation=90)\n",
        "\n",
        "# Display the plot\n",
        "plt.show()"
      ],
      "metadata": {
        "id": "dUvwdBqTDz_Y",
        "outputId": "728581d1-b780-45ab-9887-f518f60e8e3d",
        "colab": {
          "base_uri": "https://localhost:8080/",
          "height": 232
        }
      },
      "execution_count": null,
      "outputs": [
        {
          "output_type": "error",
          "ename": "NameError",
          "evalue": "ignored",
          "traceback": [
            "\u001b[0;31m---------------------------------------------------------------------------\u001b[0m",
            "\u001b[0;31mNameError\u001b[0m                                 Traceback (most recent call last)",
            "\u001b[0;32m<ipython-input-4-33c8210c22ff>\u001b[0m in \u001b[0;36m<module>\u001b[0;34m\u001b[0m\n\u001b[1;32m     10\u001b[0m \u001b[0;31m# Make predictions on the testing set and calculate accuracy\u001b[0m\u001b[0;34m\u001b[0m\u001b[0;34m\u001b[0m\u001b[0m\n\u001b[1;32m     11\u001b[0m \u001b[0my_pred\u001b[0m \u001b[0;34m=\u001b[0m \u001b[0mmodel\u001b[0m\u001b[0;34m.\u001b[0m\u001b[0mpredict\u001b[0m\u001b[0;34m(\u001b[0m\u001b[0mX_test\u001b[0m\u001b[0;34m)\u001b[0m\u001b[0;34m\u001b[0m\u001b[0;34m\u001b[0m\u001b[0m\n\u001b[0;32m---> 12\u001b[0;31m \u001b[0maccuracy\u001b[0m \u001b[0;34m=\u001b[0m \u001b[0maccuracy_score\u001b[0m\u001b[0;34m(\u001b[0m\u001b[0my_test\u001b[0m\u001b[0;34m,\u001b[0m \u001b[0my_pred\u001b[0m\u001b[0;34m)\u001b[0m\u001b[0;34m\u001b[0m\u001b[0;34m\u001b[0m\u001b[0m\n\u001b[0m\u001b[1;32m     13\u001b[0m \u001b[0mprint\u001b[0m\u001b[0;34m(\u001b[0m\u001b[0;34m\"Accuracy: %.2f%%\"\u001b[0m \u001b[0;34m%\u001b[0m \u001b[0;34m(\u001b[0m\u001b[0maccuracy\u001b[0m \u001b[0;34m*\u001b[0m \u001b[0;36m100.0\u001b[0m\u001b[0;34m)\u001b[0m\u001b[0;34m)\u001b[0m\u001b[0;34m\u001b[0m\u001b[0;34m\u001b[0m\u001b[0m\n\u001b[1;32m     14\u001b[0m \u001b[0;34m\u001b[0m\u001b[0m\n",
            "\u001b[0;31mNameError\u001b[0m: name 'accuracy_score' is not defined"
          ]
        }
      ]
    },
    {
      "cell_type": "code",
      "source": [
        "df = pd.read_csv('hw2_data.csv')\n",
        "\n",
        "model = MLPClassifier(hidden_layer_sizes=(10,), max_iter=1000, random_state=1)\n",
        "model.fit(X_train, y_train)\n",
        "\n",
        "# Make predictions on the test set\n",
        "y_pred = model.predict(X_test)\n",
        "\n",
        "# Evaluate the model using accuracy metrics\n",
        "accuracy = np.mean(y_test == y_pred)\n",
        "print(\"Accuracy: %.2f%%\" % (accuracy * 100.0))\n",
        "\n",
        "# Get the feature importances\n",
        "importances = model.coefs_[0].mean(axis=1)\n",
        "\n",
        "# Get the indices of the top 30 genes based on their importance\n",
        "top30_idx = np.argsort(importances)[::-1][:30]\n",
        "\n",
        "gene_names = df.columns[1:]\n",
        "\n",
        "top_30_gene_names = gene_names[top_30_features]\n",
        "\n",
        "mean_expression_levels = data.groupby('Cell Type')[top_30_gene_names].mean()\n",
        "\n",
        "# Create heatmap using seaborn\n",
        "fig, ax = plt.subplots(figsize=(10, 8))\n",
        "sns.heatmap(mean_expression_levels, ax=ax, cmap='coolwarm')\n",
        "\n",
        "# Set the title and axis labels\n",
        "ax.set_title('Mean expression levels of top 30 genes by cell type')\n",
        "ax.set_xlabel('Genes')\n",
        "ax.set_ylabel('Cell type')\n",
        "\n",
        "# Rotate the x-axis tick labels for better visibility\n",
        "plt.xticks(rotation=90)\n",
        "\n",
        "# Display the plot\n",
        "plt.show()"
      ],
      "metadata": {
        "id": "8ByV7chCTU74"
      },
      "execution_count": null,
      "outputs": []
    },
    {
      "cell_type": "markdown",
      "source": [
        "**Quesiton 6b)** The reported accuracy for both models is near one. This means that the cell types are likely very unrelated. This makes sense considering B cells and Monocytes are very differentiated from their last common progenitor. This is also visible in the heatmaps where each gene that is a strong indicator of one of the cells, is generally a negative indicator of the other. "
      ],
      "metadata": {
        "id": "_VlwXprM89IZ"
      }
    }
  ]
}